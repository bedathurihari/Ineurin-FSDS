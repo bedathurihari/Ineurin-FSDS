{
 "cells": [
  {
   "cell_type": "markdown",
   "id": "ed41c8cd",
   "metadata": {},
   "source": [
    "1. Write a Python program to convert kilometers to miles?"
   ]
  },
  {
   "cell_type": "code",
   "execution_count": 6,
   "id": "e71613ed",
   "metadata": {},
   "outputs": [
    {
     "name": "stdout",
     "output_type": "stream",
     "text": [
      "6\n"
     ]
    },
    {
     "data": {
      "text/plain": [
       "3.7282260000000003"
      ]
     },
     "execution_count": 6,
     "metadata": {},
     "output_type": "execute_result"
    }
   ],
   "source": [
    "b=float(input())\n",
    "c=b*0.621371\n",
    "c"
   ]
  },
  {
   "cell_type": "markdown",
   "id": "bddc2c96",
   "metadata": {},
   "source": [
    "2. Write a Python program to convert Celsius to Fahrenheit?\n"
   ]
  },
  {
   "cell_type": "code",
   "execution_count": 16,
   "id": "1cb47b53",
   "metadata": {},
   "outputs": [
    {
     "name": "stdout",
     "output_type": "stream",
     "text": [
      "enter temp in celcius : 3\n",
      "3.00 degree Celsius is equal to 37.40 degree Fahrenheit\n"
     ]
    }
   ],
   "source": [
    "c=float(input(\"enter temp in celcius : \"))\n",
    "f=(c* 1.8) + 32\n",
    "print('%0.2f degree Celsius is equal to %0.2f degree Fahrenheit' %(c,f))\n"
   ]
  },
  {
   "cell_type": "code",
   "execution_count": null,
   "id": "7177b147",
   "metadata": {},
   "outputs": [],
   "source": []
  },
  {
   "cell_type": "markdown",
   "id": "780841a7",
   "metadata": {},
   "source": [
    "3. Write a Python program to display calendar?"
   ]
  },
  {
   "cell_type": "code",
   "execution_count": 24,
   "id": "f61b5a9e",
   "metadata": {},
   "outputs": [
    {
     "name": "stdout",
     "output_type": "stream",
     "text": [
      "enter year2232\n",
      "enter month3\n",
      "     March 2232\n",
      "Mo Tu We Th Fr Sa Su\n",
      "          1  2  3  4\n",
      " 5  6  7  8  9 10 11\n",
      "12 13 14 15 16 17 18\n",
      "19 20 21 22 23 24 25\n",
      "26 27 28 29 30 31\n",
      "\n"
     ]
    }
   ],
   "source": [
    "import math\n",
    "import calendar\n",
    "y=int(input(\"enter year \"))\n",
    "m=int(input(\"enter month \"))\n",
    "print(calendar.month(y,m))"
   ]
  },
  {
   "cell_type": "markdown",
   "id": "bc578430",
   "metadata": {},
   "source": [
    "4. Write a Python program to solve quadratic equation?"
   ]
  },
  {
   "cell_type": "code",
   "execution_count": 33,
   "id": "ae48b49e",
   "metadata": {},
   "outputs": [
    {
     "name": "stdout",
     "output_type": "stream",
     "text": [
      "1\n",
      "5\n",
      "6\n"
     ]
    }
   ],
   "source": [
    "import cmath\n",
    "a=int(input())\n",
    "b=int(input())\n",
    "c=int(input())\n",
    "d=((b*b)-(4*a*c))/2*a\n",
    "root1=-b+cmath.sqrt(d)\n",
    "root2=-b-cmath.sqrt(d)"
   ]
  },
  {
   "cell_type": "code",
   "execution_count": 34,
   "id": "4f3283ae",
   "metadata": {},
   "outputs": [
    {
     "data": {
      "text/plain": [
       "(-4.292893218813452+0j)"
      ]
     },
     "execution_count": 34,
     "metadata": {},
     "output_type": "execute_result"
    }
   ],
   "source": [
    "root1\n"
   ]
  },
  {
   "cell_type": "code",
   "execution_count": 36,
   "id": "f5e27b66",
   "metadata": {},
   "outputs": [
    {
     "data": {
      "text/plain": [
       "(-5.707106781186548+0j)"
      ]
     },
     "execution_count": 36,
     "metadata": {},
     "output_type": "execute_result"
    }
   ],
   "source": [
    "root2"
   ]
  },
  {
   "cell_type": "markdown",
   "id": "6a67e0fa",
   "metadata": {},
   "source": [
    "5. Write a Python program to swap two variables without temp variable?"
   ]
  },
  {
   "cell_type": "code",
   "execution_count": 37,
   "id": "e908f452",
   "metadata": {},
   "outputs": [],
   "source": [
    "x=5\n",
    "y=7\n",
    "x,y =y,x\n"
   ]
  },
  {
   "cell_type": "code",
   "execution_count": 38,
   "id": "f85bfd07",
   "metadata": {},
   "outputs": [
    {
     "data": {
      "text/plain": [
       "5"
      ]
     },
     "execution_count": 38,
     "metadata": {},
     "output_type": "execute_result"
    }
   ],
   "source": [
    "y"
   ]
  },
  {
   "cell_type": "code",
   "execution_count": 39,
   "id": "a57dcabb",
   "metadata": {},
   "outputs": [
    {
     "data": {
      "text/plain": [
       "7"
      ]
     },
     "execution_count": 39,
     "metadata": {},
     "output_type": "execute_result"
    }
   ],
   "source": [
    "x"
   ]
  },
  {
   "cell_type": "code",
   "execution_count": null,
   "id": "43bbe821",
   "metadata": {},
   "outputs": [],
   "source": []
  }
 ],
 "metadata": {
  "kernelspec": {
   "display_name": "Python 3 (ipykernel)",
   "language": "python",
   "name": "python3"
  },
  "language_info": {
   "codemirror_mode": {
    "name": "ipython",
    "version": 3
   },
   "file_extension": ".py",
   "mimetype": "text/x-python",
   "name": "python",
   "nbconvert_exporter": "python",
   "pygments_lexer": "ipython3",
   "version": "3.9.7"
  }
 },
 "nbformat": 4,
 "nbformat_minor": 5
}
