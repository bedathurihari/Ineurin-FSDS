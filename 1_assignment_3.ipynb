{
 "cells": [
  {
   "cell_type": "code",
   "execution_count": 1,
   "id": "f714a117",
   "metadata": {},
   "outputs": [
    {
     "data": {
      "text/plain": [
       "'C:\\\\Users\\\\Bc406tx'"
      ]
     },
     "execution_count": 1,
     "metadata": {},
     "output_type": "execute_result"
    }
   ],
   "source": [
    "pwd"
   ]
  },
  {
   "cell_type": "raw",
   "id": "a1f0d704",
   "metadata": {},
   "source": [
    "# 1. Why are functions advantageous to have in your programs?\n",
    "functions reduces the complexity of the code\n",
    "it avoids the dupliaction of same code.i.e,we are able to cal a function in multiple areas without writing the same code\n",
    "it reduces the maintance and debugging time of a code"
   ]
  },
  {
   "cell_type": "raw",
   "id": "72c52bce",
   "metadata": {},
   "source": [
    "# 2. When does the code in a function run: when its specified or when its called?\n",
    "when its calleds, its run the defined code inside a function"
   ]
  },
  {
   "cell_type": "raw",
   "id": "80904230",
   "metadata": {},
   "source": [
    "# 3. What statement creates a function?\n",
    "\"def\" keyword is a staremet used to define a function folowed by a variable name,paranthesie and :\n"
   ]
  },
  {
   "cell_type": "raw",
   "id": "197df096",
   "metadata": {},
   "source": [
    "# 4. What is the difference between a function and a function call?\n",
    "a function is a set of procedur/logic/algaritahm ,by which we will be able a achieve a specific task/problem\n",
    "function call is to get the required output from the defined function\n",
    "we cant use a function to solve a specific task without calling it"
   ]
  },
  {
   "cell_type": "raw",
   "id": "c23d92c8",
   "metadata": {},
   "source": [
    "# 5. How many global scopes are there in a Python program? How many local scopes?\n",
    "there are 2 global scopes are there in python\n",
    "1. user defined global scope by using \"global\" keyword\n",
    "2. built in scope like false,true,in,continue...\n",
    "global scopes are accesable in the entire code irresepective of the nested functions\n",
    "as a global ,local scope contains only one scope \n",
    "its accessable in a specific function under which its scope is defined.outside of that specifc function local scope is not ccessable"
   ]
  },
  {
   "cell_type": "raw",
   "id": "3c2ea081",
   "metadata": {},
   "source": [
    "# 6. What happens to variables in a local scope when the function call returns?\n",
    "as per local scope defination ,local scopes are valid inside a specific function under which its defined\n",
    "so once the function call returns,the local scopes will be destroyed outside of that function\n",
    "\n"
   ]
  },
  {
   "cell_type": "raw",
   "id": "7ed4aa71",
   "metadata": {},
   "source": [
    "# 7. What is the concept of a return value? Is it possible to have a return value in an expression?\n",
    "return used to get the output of the function, which users should call\n",
    "yes, we can use a return value in an expression\n",
    "\n",
    "\n"
   ]
  },
  {
   "cell_type": "raw",
   "id": "3b49dba0",
   "metadata": {},
   "source": [
    "# 8. If a function does not have a return statement, what is the return value of a call to that function?\n",
    "if the function doesnot have a return statement,then it wil execute the code under a function when its called,but its doen not print the output of the function\n",
    "it return None"
   ]
  },
  {
   "cell_type": "raw",
   "id": "121ea07b",
   "metadata": {},
   "source": [
    "# 9.How do you make a function variable refer to the global variable?\n",
    "by using \"global\" keyword before a variable name\n",
    "\n"
   ]
  },
  {
   "cell_type": "raw",
   "id": "fe20ebc9",
   "metadata": {},
   "source": [
    "# 10. What is the data type of None?\n",
    "its a NoneType\n"
   ]
  },
  {
   "cell_type": "raw",
   "id": "0727a034",
   "metadata": {},
   "source": [
    "# 11. What does the sentence import areallyourpetsnamederic do?\n",
    "import keyword will import the specified module into the code\n",
    "so here import areallyourpetsnamederic sentence will imports \"areallyourpetsnamederic\" as a module\n",
    "if theat module exits meansit will work otherwise it will show the error\n",
    "ModuleNotFoundError: No module named 'areallyourpetsnamederic'"
   ]
  },
  {
   "cell_type": "raw",
   "id": "ec57e67f",
   "metadata": {},
   "source": [
    "# 12. If you had a bacon() feature in a spam module, what would you call it after importing spam?\n",
    "from spam import bacon\n",
    "by using from .. import .. concept, we can import a required features instead of all features\n"
   ]
  },
  {
   "cell_type": "raw",
   "id": "990bea41",
   "metadata": {},
   "source": [
    "# 13. What can you do to save a programme from crashing if it encounters an error?\n",
    "by using exception handling , we can save a programme from crashing\n",
    "we can keep our code under \n",
    "try:\n",
    "    .\n",
    "    .\n",
    "    .\n",
    "    \n",
    "\n",
    "except :\n",
    "\n"
   ]
  },
  {
   "cell_type": "raw",
   "id": "1e40eaef",
   "metadata": {},
   "source": [
    "# 14. What is the purpose of the try clause? What is the purpose of the except clause?\n",
    "\n",
    "basically try and except clause,s will be usefull to run a function without leading it to the crashing ,when the code has a errors\n",
    "try clause will check for errors in the code.if there ate no errors it will executr the function \n",
    "if it has a errors, then it wont execute the function,simply it wil pass to the except clause \n",
    "except clase will be used to to handle the error with user defined arguments\n"
   ]
  }
 ],
 "metadata": {
  "kernelspec": {
   "display_name": "Python 3 (ipykernel)",
   "language": "python",
   "name": "python3"
  },
  "language_info": {
   "codemirror_mode": {
    "name": "ipython",
    "version": 3
   },
   "file_extension": ".py",
   "mimetype": "text/x-python",
   "name": "python",
   "nbconvert_exporter": "python",
   "pygments_lexer": "ipython3",
   "version": "3.9.7"
  }
 },
 "nbformat": 4,
 "nbformat_minor": 5
}
