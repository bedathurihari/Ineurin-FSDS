{
 "cells": [
  {
   "cell_type": "code",
   "execution_count": null,
   "id": "2a44e89a",
   "metadata": {},
   "outputs": [],
   "source": [
    "1. In the below elements which of them are values or an expression? eg:- values can be\n",
    "integer or string and expressions will be mathematical operators.\n",
    "*\n",
    "hello\n",
    "-87.8\n",
    "-\n",
    "/\n",
    "+\n",
    "6\n",
    "answer:\n",
    "in the above date ,\"hello\",-87.8,6 are the values\n",
    "8,-,/,+ are the expressionns"
   ]
  },
  {
   "cell_type": "code",
   "execution_count": null,
   "id": "69d6fc19",
   "metadata": {},
   "outputs": [],
   "source": [
    "2. What is the difference between string and variable?\n",
    "A:\n",
    "string:\n",
    "    a string is a data type, which an be stored under a variable .strings can be defkined with \"\",'',\"\"\"\"\"\"\n",
    "    \n",
    "variable:\n",
    "    variable stores a data .its a keyword, which reserves the inofrmation defined by user with assignment operater or the inbulit data\n",
    "    the data resrved in a variable may a string,list,tuple or any other data type "
   ]
  },
  {
   "cell_type": "code",
   "execution_count": null,
   "id": "febac600",
   "metadata": {},
   "outputs": [],
   "source": [
    "3. Describe three different data types.\n",
    "A:\n",
    "in python each value has its own data type.its helps to identify the which type of operation , can we able to perform on that value\n",
    "Python has differnt types of data types\n",
    "Boolen type:True,False\n",
    "sequence types:tuple,list,range\n",
    "mappying type:dict\n",
    "numarical type:int,float,complex\n",
    "text type:str"
   ]
  },
  {
   "cell_type": "code",
   "execution_count": null,
   "id": "71710fad",
   "metadata": {},
   "outputs": [],
   "source": [
    "4. What is an expression made up of? What do all expressions do?\n",
    "A:\n",
    "Expression is a combination of values ,operaters ,variables ,which conatins mathematical logic of the the problem statement\n",
    "expressions will perform the set of operations to give the final output of the problem statement or expression "
   ]
  },
  {
   "cell_type": "code",
   "execution_count": null,
   "id": "fd804eea",
   "metadata": {},
   "outputs": [],
   "source": [
    "5. This assignment statements, like spam = 10. What is the difference between an\n",
    "expression and a statement?\n",
    "A:\n",
    "AN expression always returns a value\n",
    "A statemenmt will do something like diplaying a value,variable and it only does whatever statement says"
   ]
  },
  {
   "cell_type": "code",
   "execution_count": 2,
   "id": "49b303d2",
   "metadata": {},
   "outputs": [
    {
     "data": {
      "text/plain": [
       "23"
      ]
     },
     "execution_count": 2,
     "metadata": {},
     "output_type": "execute_result"
    }
   ],
   "source": [
    "#6. After running the following code, what does the variable bacon contain?\n",
    "bacon = 22\n",
    "bacon + 1\n",
    "\n"
   ]
  },
  {
   "cell_type": "code",
   "execution_count": 6,
   "id": "9df48d24",
   "metadata": {},
   "outputs": [
    {
     "data": {
      "text/plain": [
       "'spamspamspam'"
      ]
     },
     "execution_count": 6,
     "metadata": {},
     "output_type": "execute_result"
    }
   ],
   "source": [
    "#7. What should the values of the following two term\n",
    "'spam'+'spamspam'\n"
   ]
  },
  {
   "cell_type": "code",
   "execution_count": 7,
   "id": "2af78ead",
   "metadata": {},
   "outputs": [
    {
     "data": {
      "text/plain": [
       "'spamspamspam'"
      ]
     },
     "execution_count": 7,
     "metadata": {},
     "output_type": "execute_result"
    }
   ],
   "source": [
    "'spam'*3"
   ]
  },
  {
   "cell_type": "code",
   "execution_count": null,
   "id": "0c6c8a39",
   "metadata": {},
   "outputs": [],
   "source": [
    "8. Why is eggs a valid variable name while 100 is invalid?\n",
    "A:\n",
    "A variable must start with a letter or underscore.it should not start with number\n",
    "so here eggs is valid variable, because its starting with a letter\n",
    "100 is not a valid varaible, because its satrting with number"
   ]
  },
  {
   "cell_type": "code",
   "execution_count": null,
   "id": "655ef378",
   "metadata": {},
   "outputs": [],
   "source": [
    "9. What three functions can be used to get the integer, floating-point number, or string\n",
    "version of a value?\n",
    "A:\n",
    "int():to get the integer version of value\n",
    "float():to get the floating point version of value\n",
    "str():to get the string version of a value"
   ]
  },
  {
   "cell_type": "code",
   "execution_count": 8,
   "id": "1730f1b5",
   "metadata": {},
   "outputs": [
    {
     "ename": "TypeError",
     "evalue": "can only concatenate str (not \"int\") to str",
     "output_type": "error",
     "traceback": [
      "\u001b[1;31m---------------------------------------------------------------------------\u001b[0m",
      "\u001b[1;31mTypeError\u001b[0m                                 Traceback (most recent call last)",
      "\u001b[1;32m~\\AppData\\Local\\Temp/ipykernel_10952/1863508571.py\u001b[0m in \u001b[0;36m<module>\u001b[1;34m\u001b[0m\n\u001b[0;32m      1\u001b[0m \u001b[1;31m#10. Why does this expression cause an error? How can you fix it?\u001b[0m\u001b[1;33m\u001b[0m\u001b[1;33m\u001b[0m\u001b[0m\n\u001b[1;32m----> 2\u001b[1;33m \u001b[1;34m'I have eaten'\u001b[0m\u001b[1;33m+\u001b[0m \u001b[1;36m99\u001b[0m \u001b[1;33m+\u001b[0m\u001b[1;34m'burritos'\u001b[0m\u001b[1;33m\u001b[0m\u001b[1;33m\u001b[0m\u001b[0m\n\u001b[0m",
      "\u001b[1;31mTypeError\u001b[0m: can only concatenate str (not \"int\") to str"
     ]
    }
   ],
   "source": [
    "#10. Why does this expression cause an error? How can you fix it?\n",
    "'I have eaten'+ 99 +'burritos'\n",
    "its not possiblre to conctenate sting vs integer , so we need to conver integer into a string"
   ]
  },
  {
   "cell_type": "code",
   "execution_count": 16,
   "id": "b3d48187",
   "metadata": {},
   "outputs": [
    {
     "data": {
      "text/plain": [
       "'I have eaten99burritos'"
      ]
     },
     "execution_count": 16,
     "metadata": {},
     "output_type": "execute_result"
    }
   ],
   "source": [
    "#its not possiblre to conctenate sting vs integer , so we need to conver integer into a string\n",
    "'I have eaten'+\"99\"+ 'burritos'"
   ]
  },
  {
   "cell_type": "code",
   "execution_count": 18,
   "id": "d7fa8687",
   "metadata": {},
   "outputs": [
    {
     "data": {
      "text/plain": [
       "'C:\\\\Users\\\\Bc406tx'"
      ]
     },
     "execution_count": 18,
     "metadata": {},
     "output_type": "execute_result"
    }
   ],
   "source": [
    "pwd\n"
   ]
  },
  {
   "cell_type": "code",
   "execution_count": null,
   "id": "5661e319",
   "metadata": {},
   "outputs": [],
   "source": []
  }
 ],
 "metadata": {
  "kernelspec": {
   "display_name": "Python 3 (ipykernel)",
   "language": "python",
   "name": "python3"
  },
  "language_info": {
   "codemirror_mode": {
    "name": "ipython",
    "version": 3
   },
   "file_extension": ".py",
   "mimetype": "text/x-python",
   "name": "python",
   "nbconvert_exporter": "python",
   "pygments_lexer": "ipython3",
   "version": "3.9.7"
  }
 },
 "nbformat": 4,
 "nbformat_minor": 5
}
