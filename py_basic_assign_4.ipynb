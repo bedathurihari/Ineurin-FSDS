{
 "cells": [
  {
   "cell_type": "markdown",
   "id": "77c049f2",
   "metadata": {},
   "source": [
    "Write a Python Program to Find the Factorial of a Number?"
   ]
  },
  {
   "cell_type": "code",
   "execution_count": null,
   "id": "f93c70a1",
   "metadata": {},
   "outputs": [],
   "source": [
    "m=int(input())\n",
    "n=1\n",
    "if m==1:\n",
    "    print(\" 1 factorial is 1\")\n",
    "elif m<0:\n",
    "    print(\"factorial is not possible\")\n",
    "else:\n",
    "    \n",
    "    for i in range (1,m+1):\n",
    "        n=n*i\n",
    "print(n)"
   ]
  },
  {
   "cell_type": "markdown",
   "id": "c809c640",
   "metadata": {},
   "source": [
    "2. Write a Python Program to Display the multiplication Table?"
   ]
  },
  {
   "cell_type": "code",
   "execution_count": null,
   "id": "059c5f4e",
   "metadata": {},
   "outputs": [],
   "source": [
    "m=int(input())\n",
    "n=10\n",
    "for i in range(1,n+1):\n",
    "    k=m*i\n",
    "    print(m, \"*\", i ,\"=\", k)"
   ]
  },
  {
   "cell_type": "markdown",
   "id": "7bfedcb2",
   "metadata": {},
   "source": [
    "3. Write a Python Program to Print the Fibonacci sequence?"
   ]
  },
  {
   "cell_type": "code",
   "execution_count": null,
   "id": "2683a9fb",
   "metadata": {},
   "outputs": [],
   "source": [
    "m=int(input())\n",
    "n1,n2=0,1\n",
    "count=0\n",
    "while count<m:\n",
    "    print(n1)\n",
    "    nth=n1+n2\n",
    "    n1=n2\n",
    "    n2=nth\n",
    "    count+=1\n",
    "\n"
   ]
  },
  {
   "cell_type": "markdown",
   "id": "e78ee491",
   "metadata": {},
   "source": [
    "4. Write a Python Program to Check Armstrong Number?"
   ]
  },
  {
   "cell_type": "code",
   "execution_count": null,
   "id": "621d9026",
   "metadata": {},
   "outputs": [],
   "source": [
    "m=int(input())\n",
    "\n",
    "\n",
    "order=len(str(m))\n",
    "sum=0\n",
    "temp=m\n",
    "while temp>0:\n",
    "    num=temp%10\n",
    "    sum+=num**order\n",
    "    temp//=10\n",
    "    \n",
    "if m==sum:\n",
    "    print(m ,'its a armstrong number')\n",
    "else:\n",
    "    print(m ,'its not a armstrong number')"
   ]
  },
  {
   "cell_type": "markdown",
   "id": "fa7c84cf",
   "metadata": {},
   "source": [
    "5. Write a Python Program to Find Armstrong Number in an Interval?"
   ]
  },
  {
   "cell_type": "code",
   "execution_count": null,
   "id": "b6273106",
   "metadata": {},
   "outputs": [],
   "source": [
    "n=int(input())\n",
    "\n",
    "for i in range(1,n+1):\n",
    "    order=len(str(i))\n",
    "    #print(order)\n",
    "    sum=0\n",
    "    temp=i\n",
    "    while temp>0:\n",
    "        num=temp%10\n",
    "        sum+=num**order\n",
    "        temp//=10\n",
    "    if i==sum:\n",
    "        print(i ,'its a armstrong number')\n",
    "    else:\n",
    "        print(i ,'its not a armstrong number')"
   ]
  },
  {
   "cell_type": "code",
   "execution_count": null,
   "id": "d8415b78",
   "metadata": {},
   "outputs": [],
   "source": []
  },
  {
   "cell_type": "markdown",
   "id": "749049fb",
   "metadata": {},
   "source": [
    "6. Write a Python Program to Find the Sum of Natural Numbers?"
   ]
  },
  {
   "cell_type": "code",
   "execution_count": 4,
   "id": "9e8c848f",
   "metadata": {},
   "outputs": [
    {
     "name": "stdout",
     "output_type": "stream",
     "text": [
      "16\n",
      "136\n"
     ]
    }
   ],
   "source": [
    "n=int(input())\n",
    "sum=0\n",
    "while n>0:\n",
    "    sum+=n\n",
    "    n-=1\n",
    "print(sum)"
   ]
  },
  {
   "cell_type": "code",
   "execution_count": null,
   "id": "11777951",
   "metadata": {},
   "outputs": [],
   "source": []
  }
 ],
 "metadata": {
  "kernelspec": {
   "display_name": "Python 3 (ipykernel)",
   "language": "python",
   "name": "python3"
  },
  "language_info": {
   "codemirror_mode": {
    "name": "ipython",
    "version": 3
   },
   "file_extension": ".py",
   "mimetype": "text/x-python",
   "name": "python",
   "nbconvert_exporter": "python",
   "pygments_lexer": "ipython3",
   "version": "3.9.7"
  }
 },
 "nbformat": 4,
 "nbformat_minor": 5
}
