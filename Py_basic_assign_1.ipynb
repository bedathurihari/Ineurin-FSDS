{
 "cells": [
  {
   "cell_type": "markdown",
   "id": "1fc5446b",
   "metadata": {},
   "source": [
    "1. Write a Python program to print &quot;Hello Python&quot;?"
   ]
  },
  {
   "cell_type": "code",
   "execution_count": 1,
   "id": "2783fe40",
   "metadata": {},
   "outputs": [
    {
     "name": "stdout",
     "output_type": "stream",
     "text": [
      "Hello Python\n"
     ]
    }
   ],
   "source": [
    "print(\"Hello Python\")"
   ]
  },
  {
   "cell_type": "markdown",
   "id": "f6dde144",
   "metadata": {},
   "source": [
    "2. Write a Python program to do arithmetical operations addition and division.?"
   ]
  },
  {
   "cell_type": "code",
   "execution_count": 2,
   "id": "d56ca74e",
   "metadata": {},
   "outputs": [],
   "source": [
    "a=2\n",
    "b=4\n",
    "c=a+b\n",
    "d=a/b"
   ]
  },
  {
   "cell_type": "code",
   "execution_count": 3,
   "id": "b5fa36ea",
   "metadata": {},
   "outputs": [
    {
     "data": {
      "text/plain": [
       "6"
      ]
     },
     "execution_count": 3,
     "metadata": {},
     "output_type": "execute_result"
    }
   ],
   "source": [
    "c"
   ]
  },
  {
   "cell_type": "code",
   "execution_count": 4,
   "id": "f5a4cdbc",
   "metadata": {},
   "outputs": [
    {
     "data": {
      "text/plain": [
       "0.5"
      ]
     },
     "execution_count": 4,
     "metadata": {},
     "output_type": "execute_result"
    }
   ],
   "source": [
    "d"
   ]
  },
  {
   "cell_type": "markdown",
   "id": "e05e6948",
   "metadata": {},
   "source": [
    "3. Write a Python program to find the area of a triangle?"
   ]
  },
  {
   "cell_type": "code",
   "execution_count": 5,
   "id": "071a1ca1",
   "metadata": {},
   "outputs": [],
   "source": [
    "b=4\n",
    "h=6\n",
    "a=0.5*b*h"
   ]
  },
  {
   "cell_type": "code",
   "execution_count": 6,
   "id": "5086203e",
   "metadata": {},
   "outputs": [
    {
     "data": {
      "text/plain": [
       "12.0"
      ]
     },
     "execution_count": 6,
     "metadata": {},
     "output_type": "execute_result"
    }
   ],
   "source": [
    "a"
   ]
  },
  {
   "cell_type": "markdown",
   "id": "8bae5e8f",
   "metadata": {},
   "source": [
    "4. Write a Python program to swap two variables?"
   ]
  },
  {
   "cell_type": "code",
   "execution_count": 9,
   "id": "d728bfc4",
   "metadata": {},
   "outputs": [],
   "source": [
    "a=3\n",
    "b=5\n",
    "a,b=b,a"
   ]
  },
  {
   "cell_type": "code",
   "execution_count": 10,
   "id": "32eaf00c",
   "metadata": {},
   "outputs": [
    {
     "data": {
      "text/plain": [
       "3"
      ]
     },
     "execution_count": 10,
     "metadata": {},
     "output_type": "execute_result"
    }
   ],
   "source": [
    "b"
   ]
  },
  {
   "cell_type": "code",
   "execution_count": 11,
   "id": "7bc7534e",
   "metadata": {},
   "outputs": [
    {
     "data": {
      "text/plain": [
       "5"
      ]
     },
     "execution_count": 11,
     "metadata": {},
     "output_type": "execute_result"
    }
   ],
   "source": [
    "a"
   ]
  },
  {
   "cell_type": "markdown",
   "id": "a28bb60d",
   "metadata": {},
   "source": [
    "5. Write a Python program to generate a random number?"
   ]
  },
  {
   "cell_type": "code",
   "execution_count": 14,
   "id": "7a452843",
   "metadata": {},
   "outputs": [],
   "source": [
    "import random\n",
    "a=random.randint(5,44)"
   ]
  },
  {
   "cell_type": "code",
   "execution_count": 15,
   "id": "f4448e58",
   "metadata": {},
   "outputs": [
    {
     "data": {
      "text/plain": [
       "38"
      ]
     },
     "execution_count": 15,
     "metadata": {},
     "output_type": "execute_result"
    }
   ],
   "source": [
    "a"
   ]
  },
  {
   "cell_type": "code",
   "execution_count": 16,
   "id": "712e74f5",
   "metadata": {},
   "outputs": [
    {
     "name": "stdout",
     "output_type": "stream",
     "text": [
      " Volume in drive C is Windows\n",
      " Volume Serial Number is 18C0-0DD6\n",
      "\n",
      " Directory of C:\\Users\\Bc406tx\n",
      "\n",
      "30-03-2022  20:55    <DIR>          .\n",
      "30-03-2022  20:55    <DIR>          ..\n",
      "24-08-2019  14:50    <DIR>          .BETA\n",
      "11-05-2021  09:00    <DIR>          .cfx\n",
      "19-02-2022  11:07    <DIR>          .conda\n",
      "04-12-2021  13:00                25 .condarc\n",
      "04-12-2021  13:00    <DIR>          .continuum\n",
      "03-07-2021  19:48            19,510 .cxlayout.ini\n",
      "03-07-2021  19:48               528 .flrecent\n",
      "04-10-2021  09:38    <DIR>          .gamma\n",
      "11-10-2021  00:44             1,024 .gtentroshang\n",
      "26-01-2022  21:13    <DIR>          .idlerc\n",
      "20-08-2019  22:20    <DIR>          .InstallAnywhere\n",
      "30-03-2022  20:55    <DIR>          .ipynb_checkpoints\n",
      "05-12-2021  10:24    <DIR>          .ipython\n",
      "06-01-2022  21:21    <DIR>          .jupyter\n",
      "06-02-2022  19:27    <DIR>          .matplotlib\n",
      "10-10-2021  20:44    <DIR>          .oracle_jre_usage\n",
      "07-02-2022  21:42    <DIR>          .spyder-py3\n",
      "22-01-2022  11:05    <DIR>          __pycache__\n",
      "27-08-2019  22:32             1,719 1. Body.SLDPRT1566925372.log\n",
      "27-08-2019  22:34             1,726 1. Body.SLDPRT1566925494.log\n",
      "27-08-2019  22:35             1,723 1. Body.SLDPRT1566925514.log\n",
      "30-03-2022  08:13             4,035 1_assignent_012.ipynb\n",
      "10-01-2022  19:56             7,388 1_assignment_1.ipynb\n",
      "09-02-2022  23:10             8,909 1_assignment_11.ipynb\n",
      "10-01-2022  19:56             7,388 1_assignment_1-checkpoint.ipynb\n",
      "15-01-2022  23:02             6,221 1_assignment_3.ipynb\n",
      "16-01-2022  00:16            10,444 1_assignment_4.ipynb\n",
      "21-01-2022  20:18             7,409 1_assignment_5.ipynb\n",
      "21-01-2022  21:52            10,237 1_assignment_6.ipynb\n",
      "21-01-2022  22:24               875 1_assignment_7.ipynb\n",
      "02-02-2022  23:02             5,112 1_assignment_8.ipynb\n",
      "07-02-2022  22:42             3,718 1_assignment_9.ipynb\n",
      "08-02-2022  22:25             8,837 1_assignmnet_10.ipynb\n",
      "06-02-2022  10:31           104,319 1_my sql _05022022.ipynb\n",
      "13-02-2022  12:33            18,178 13022022_mangodb.ipynb\n",
      "24-01-2022  22:24           765,247 16206343.pdf\n",
      "24-01-2022  22:37           777,316 1620634334.pdf\n",
      "24-01-2022  22:36           765,247 1620634345456.pdf\n",
      "06-02-2022  15:51           660,143 2_sql_06022022.ipynb\n",
      "06-06-2021  19:56             1,717 3.9.SLDPRT1622989587.log\n",
      "09-10-2021  00:09    <DIR>          3D Objects\n",
      "11-01-2022  22:59             4,586 4_assignment_1.ipynb\n",
      "14-01-2022  22:55             6,537 4_assignment_2.ipynb\n",
      "23-08-2019  23:54           265,601 40637aba88c3_3f89360c-085d-4b13-8ede-f1d5d490818f.dmp\n",
      "23-08-2019  23:55               170 40637aba88c3_3f89360c-085d-4b13-8ede-f1d5d490818f.dmp.xml\n",
      "27-08-2019  22:09           286,100 40637aba88c3_565b0633-9f68-4c3b-bb24-046e1f0e1c65.dmp\n",
      "27-08-2019  22:12               170 40637aba88c3_565b0633-9f68-4c3b-bb24-046e1f0e1c65.dmp.xml\n",
      "27-08-2019  22:31           293,860 40637aba88c3_701a5b2a-430a-488b-9eff-248869c6b7bd.dmp\n",
      "27-08-2019  22:31               170 40637aba88c3_701a5b2a-430a-488b-9eff-248869c6b7bd.dmp.xml\n",
      "26-08-2019  00:44           272,431 40637aba88c3_70451d95-8ad2-45cc-bb98-517221f4a88d.dmp\n",
      "26-08-2019  00:46               170 40637aba88c3_70451d95-8ad2-45cc-bb98-517221f4a88d.dmp.xml\n",
      "26-08-2019  00:21           277,235 40637aba88c3_75623dd5-0811-494e-a640-16cf25e8bccd.dmp\n",
      "26-08-2019  00:23               170 40637aba88c3_75623dd5-0811-494e-a640-16cf25e8bccd.dmp.xml\n",
      "12-04-2021  16:13           271,342 40637aba88c3_8e490968-0094-4b43-89b9-1c207a71aa59.dmp\n",
      "12-04-2021  16:13               170 40637aba88c3_8e490968-0094-4b43-89b9-1c207a71aa59.dmp.xml\n",
      "28-08-2019  00:09             1,726 5. Packing Gland.SLDPRT1566931169.log\n",
      "28-08-2019  00:09             1,717 5. Packing Gland.SLDPRT1566931176.log\n",
      "28-08-2019  00:09             1,725 5. Packing Gland.SLDPRT1566931177.log\n",
      "28-08-2019  00:09             1,717 5. Packing Gland.SLDPRT1566931178.log\n",
      "28-08-2019  00:09             1,719 5. Packing Gland.SLDPRT1566931182.log\n",
      "28-08-2019  00:09             1,722 5. Packing Gland.SLDPRT1566931185.log\n",
      "28-08-2019  00:09             2,625 5. Packing Gland.SLDPRT1566931193.log\n",
      "28-08-2019  00:09             1,717 5. Packing Gland.SLDPRT1566931194.log\n",
      "28-08-2019  00:09             1,723 5. Packing Gland.SLDPRT1566931195.log\n",
      "28-08-2019  21:45             1,726 5. Packing Gland.SLDPRT1567008925.log\n",
      "28-08-2019  21:45             1,719 5. Packing Gland.SLDPRT1567008942.log\n",
      "28-08-2019  21:45             1,722 5. Packing Gland.SLDPRT1567008944.log\n",
      "28-08-2019  21:45             2,625 5. Packing Gland.SLDPRT1567008949.log\n",
      "28-08-2019  21:45             1,717 5. Packing Gland.SLDPRT1567008950.log\n",
      "28-08-2019  21:45             1,726 5. Packing Gland.SLDPRT1567008951.log\n",
      "28-08-2019  21:45             1,717 5. Packing Gland.SLDPRT1567008952.log\n",
      "28-08-2019  21:45             1,717 5. Packing Gland.SLDPRT1567008953.log\n",
      "28-08-2019  22:31             1,726 5. Packing Gland.SLDPRT1567011670.log\n",
      "28-08-2019  22:31             1,719 5. Packing Gland.SLDPRT1567011683.log\n",
      "28-08-2019  22:31             1,722 5. Packing Gland.SLDPRT1567011686.log\n",
      "28-08-2019  22:31             2,625 5. Packing Gland.SLDPRT1567011691.log\n",
      "28-08-2019  22:31             1,717 5. Packing Gland.SLDPRT1567011693.log\n",
      "28-08-2019  22:31             1,723 5. Packing Gland.SLDPRT1567011694.log\n",
      "28-08-2019  22:31             1,726 5. Packing Gland.SLDPRT1567011695.log\n",
      "28-08-2019  22:31             1,717 5. Packing Gland.SLDPRT1567011696.log\n",
      "28-08-2019  22:31             1,725 5. Packing Gland.SLDPRT1567011697.log\n",
      "28-08-2019  22:31             1,717 5. Packing Gland.SLDPRT1567011699.log\n",
      "27-08-2019  22:42             1,722 6. Seat Ring.SLDPRT1566925973.log\n",
      "27-08-2019  22:43             1,717 6. Seat Ring.SLDPRT1566925983.log\n",
      "27-08-2019  22:43             1,726 6. Seat Ring.SLDPRT1566925995.log\n",
      "12-04-2021  16:06             1,910 AIRCRAFT STRUCTURE.CATPart1618223785.log\n",
      "12-04-2021  16:09             1,910 AIRCRAFT STRUCTURE.CATPart1618223974.log\n",
      "04-12-2021  12:20    <DIR>          anaconda3\n",
      "07-06-2021  21:15             8,462 ANSA_CheckDB.log\n",
      "07-06-2021  15:31            15,904 ANSA_Input.log\n",
      "28-08-2019  22:31             1,519 ANSA_Merge.log\n",
      "22-08-2019  20:55    <DIR>          ansel\n",
      "10-01-2022  19:55             7,388 assi.ipynb\n",
      "10-01-2022  19:55             7,388 assi-checkpoint.ipynb\n",
      "26-05-2021  12:52             1,918 B52 HR10 4x2.CATPart1622013753.log\n",
      "06-06-2021  19:59             1,702 Body.SLDPRT1622989773.log\n",
      "07-06-2021  20:58             1,702 Body.SLDPRT1623079720.log\n",
      "06-02-2022  12:05            51,867 car.data\n",
      "06-02-2022  12:03             3,097 car.names\n",
      "19-02-2022  12:33           628,633 carbon_nanotubes.csv\n",
      "16-04-2021  12:53               221 cleanup-ansys-Hariprasadreddy-18512.bat\n",
      "03-05-2021  13:13               469 cleanup-fluent-Hariprasadreddy-10124.bat\n",
      "17-04-2021  17:08               472 cleanup-fluent-Hariprasadreddy-10708.bat\n",
      "08-05-2021  13:49               652 cleanup-fluent-Hariprasadreddy-12680.bat\n",
      "18-04-2021  15:19               472 cleanup-fluent-Hariprasadreddy-16644.bat\n",
      "02-05-2021  22:07               472 cleanup-fluent-Hariprasadreddy-17328.bat\n",
      "09-12-2020  11:58               471 cleanup-fluent-Hariprasadreddy-18344.bat\n",
      "16-04-2021  12:44               472 cleanup-fluent-Hariprasadreddy-18692.bat\n",
      "13-12-2020  13:01               652 cleanup-fluent-Hariprasadreddy-18972.bat\n",
      "16-04-2021  12:38               471 cleanup-fluent-Hariprasadreddy-19208.bat\n",
      "12-04-2021  21:10               472 cleanup-fluent-Hariprasadreddy-19384.bat\n",
      "10-05-2021  11:56               650 cleanup-fluent-Hariprasadreddy-20804.bat\n",
      "24-01-2021  21:12               472 cleanup-fluent-Hariprasadreddy-20892.bat\n",
      "02-05-2021  22:14               472 cleanup-fluent-Hariprasadreddy-21792.bat\n",
      "08-05-2021  13:27               472 cleanup-fluent-Hariprasadreddy-22292.bat\n",
      "02-05-2021  19:11               472 cleanup-fluent-Hariprasadreddy-22716.bat\n",
      "02-05-2021  22:20               470 cleanup-fluent-Hariprasadreddy-2672.bat\n",
      "02-05-2021  22:29               472 cleanup-fluent-Hariprasadreddy-30184.bat\n",
      "02-05-2021  19:16               472 cleanup-fluent-Hariprasadreddy-30684.bat\n",
      "03-05-2021  13:29               469 cleanup-fluent-Hariprasadreddy-4552.bat\n",
      "07-05-2021  12:00               468 cleanup-fluent-Hariprasadreddy-6796.bat\n",
      "03-05-2021  12:36               468 cleanup-fluent-Hariprasadreddy-7096.bat\n",
      "17-04-2021  21:38               469 cleanup-fluent-Hariprasadreddy-9168.bat\n",
      "10-05-2021  11:53               649 cleanup-fluent-Hariprasadreddy-9336.bat\n",
      "09-10-2021  00:09    <DIR>          Contacts\n",
      "27-02-2022  10:55             5,644 cricket.csv\n",
      "13-12-2020  13:03             2,184 debug.log\n",
      "26-02-2022  00:15    <DIR>          Desktop\n",
      "23-10-2021  22:46    <DIR>          Documents\n",
      "29-03-2022  22:55    <DIR>          Downloads\n",
      "12-04-2021  10:40             1,724 egzoz s�babi.SLDPRT1618204201.log\n",
      "26-01-2022  16:44                51 example.log\n",
      "26-01-2022  17:11               258 example11.log\n",
      "09-10-2021  00:09    <DIR>          Favorites\n",
      "16-04-2021  12:53                 0 file.lock\n",
      "16-04-2021  13:11                80 file0.err\n",
      "16-04-2021  12:54               238 file0.log\n",
      "16-04-2021  12:53                 0 file0.page\n",
      "16-04-2021  12:53                 0 file1.err\n",
      "16-04-2021  12:53                 0 file1.log\n",
      "16-04-2021  12:54             4,664 file1.out\n",
      "16-04-2021  12:53                 0 file1.page\n",
      "24-01-2022  22:36           765,247 file1.pdf\n",
      "24-01-2022  22:24           765,247 file2.pdf\n",
      "08-12-2020  14:47             2,308 fluent-20201208-144229-5168.trn\n",
      "09-12-2020  11:57             2,813 fluent-20201209-101654-9152.trn\n",
      "13-12-2020  12:59             3,098 fluent-20201209-115815-11960.trn\n",
      "13-12-2020  19:50         4,709,695 fluent-20201213-130115-21092.trn\n",
      "31-01-2021  17:06         1,202,018 fluent-20210124-211100-14728.trn\n",
      "25-01-2021  02:06               121 fluent-999999-error.log\n",
      "25-01-2021  02:06           542,527 fluenterror.log\n",
      "06-01-2022  21:05            30,111 Function and holiday task.ipynb\n",
      "05-02-2022  11:47            11,903 glass.data\n",
      "09-01-2022  12:28               567 google.txt\n",
      "10-10-2021  22:14            13,707 gtlicense.log\n",
      "04-10-2021  09:47    <DIR>          GT-SUITE_20211003213200_log\n",
      "04-10-2021  20:27    <DIR>          GT-SUITE_20211004103040_log\n",
      "10-10-2021  17:29    <DIR>          GT-SUITE_20211010172922_log\n",
      "12-10-2021  21:09    <DIR>          GT-SUITE_20211010204410_log\n",
      "11-01-2022  23:02    <DIR>          Ineuron\n",
      "20-02-2022  11:03             8,192 ineuron.db\n",
      "16-10-2019  22:43    <DIR>          Intel\n",
      "27-03-2022  10:25             4,551 iris.data\n",
      "20-02-2022  11:20            12,288 jobdb.db\n",
      "20-02-2022  11:24             8,720 jobdb.db-journal\n",
      "27-02-2022  12:16            34,688 json.csv\n",
      "27-02-2022  12:29           149,198 json1.csv\n",
      "27-02-2022  12:34                19 json2.csv\n",
      "26-01-2022  15:33         3,500,948 Kivy-1.10.1.dev0-cp36-cp36m-win_amd64.whl\n",
      "26-01-2022  15:24               229 kivytest.py\n",
      "09-10-2021  00:09    <DIR>          Links\n",
      "21-10-2019  21:00    <DIR>          logs\n",
      "21-02-2022  20:03            98,029 machine & Image_Allotment (2).xlsx\n",
      "02-10-2021  18:32    <DIR>          MATLAB\n",
      "16-04-2021  12:53                86 menust.tmp\n",
      "09-10-2021  00:09    <DIR>          Music\n",
      "22-01-2022  11:05               171 my_module.py\n",
      "27-02-2022  10:49            78,960 NBA.csv\n",
      "22-01-2022  10:13                 0 new 2.txt\n",
      "26-01-2022  22:35         7,393,317 New_Merged_File_6.pdf\n",
      "07-02-2022  23:41                 0 new3\n",
      "07-02-2022  23:42    <DIR>          new4\n",
      "07-02-2022  23:42    <DIR>          new5\n",
      "07-02-2022  23:42    <DIR>          new6\n",
      "07-02-2022  23:42    <DIR>          new8\n",
      "26-01-2022  17:28               193 newfile1.log\n",
      "26-01-2022  21:10             1,106 newfile2.log\n",
      "26-01-2022  22:35               159 newfile3.log\n",
      "07-02-2022  23:42    <DIR>          old\n",
      "07-07-2021  09:28    <DIR>          OneDrive\n",
      "12-07-2021  19:56    <DIR>          OpenVPN\n",
      "27-02-2022  12:36           766,172 pandas day2 27022022.ipynb\n",
      "19-03-2022  11:58            61,827 pandas3.ipynb\n",
      "26-01-2022  17:42            20,880 pdf mergingtool.ipynb\n",
      "26-01-2022  22:04             1,390 pdftool1.py\n",
      "26-01-2022  22:33             1,421 pdftool2.py\n",
      "20-02-2022  11:02             8,192 person.db\n",
      "09-10-2021  00:09    <DIR>          Pictures\n",
      "08-02-2022  22:56                 0 programLog.txt\n",
      "30-03-2022  20:55             4,284 Py_basic_assign_1.ipynb\n",
      "26-01-2022  01:03    <DIR>          PycharmProjects\n",
      "09-05-2021  20:16             3,812 radiator and fan.sat1620571552.log\n",
      "07-06-2021  21:08            37,098 Renault Le Mans Concept.x_t1623080266.log\n",
      "19-10-2021  22:43             3,341 rs.def\n",
      "09-10-2021  00:09    <DIR>          Saved Games\n",
      "27-03-2022  11:23    <DIR>          seaborn-data\n",
      "09-10-2021  00:09    <DIR>          Searches\n",
      "11-04-2021  21:27    <DIR>          softwares\n",
      "20-02-2022  13:12            48,151 SQLLITE,MAP,REDUCE,FILTER.ipynb\n",
      "20-02-2022  12:07            38,528 sqllite.ipynb\n",
      "16-01-2022  12:34                31 test.log\n",
      "09-01-2022  11:54                 0 test.txt\n",
      "22-01-2022  10:48               134 test1.py\n",
      "09-01-2022  12:16               214 test1.txt\n",
      "09-01-2022  12:01                14 test2.txt\n",
      "16-01-2022  11:05                 0 test31.txt\n",
      "16-01-2022  10:55                22 text.txt\n",
      "26-01-2022  21:17               367 tkdummy.py\n",
      "26-01-2022  21:37               287 tkdummy1.py\n",
      "15-01-2022  11:56    <DIR>          Tracing\n",
      "05-12-2021  10:26               736 Untitled.ipynb\n",
      "07-01-2022  22:31            12,616 Untitled1.ipynb\n",
      "14-01-2022  22:59               588 Untitled10.ipynb\n",
      "15-01-2022  10:08               484 Untitled11.ipynb\n",
      "15-01-2022  22:05            10,030 Untitled12.ipynb\n",
      "15-01-2022  22:20             6,221 Untitled13.ipynb\n",
      "15-01-2022  22:31               588 Untitled14.ipynb\n",
      "16-01-2022  00:15            10,351 Untitled15.ipynb\n",
      "16-01-2022  12:35            24,214 Untitled16.ipynb\n",
      "20-01-2022  22:27             2,361 Untitled17.ipynb\n",
      "21-01-2022  20:19                72 Untitled18.ipynb\n",
      "21-01-2022  21:56               588 Untitled19.ipynb\n",
      "10-01-2022  22:19            70,836 Untitled2.ipynb\n",
      "23-01-2022  23:42            27,727 Untitled20.ipynb\n",
      "25-01-2022  00:58             2,170 Untitled21.ipynb\n",
      "25-01-2022  01:31               924 Untitled22.ipynb\n",
      "25-01-2022  01:55               588 Untitled23.ipynb\n",
      "26-01-2022  18:00             5,161 Untitled24.ipynb\n",
      "26-01-2022  17:35             2,122 Untitled25.ipynb\n",
      "26-01-2022  22:32            12,338 Untitled26.ipynb\n",
      "26-01-2022  22:42               924 Untitled27.ipynb\n",
      "29-01-2022  21:25             3,566 Untitled28.ipynb\n",
      "30-01-2022  21:47               588 Untitled29.ipynb\n",
      "10-01-2022  19:53             7,388 Untitled3.ipynb\n",
      "02-02-2022  23:04               588 Untitled30.ipynb\n",
      "05-02-2022  10:30             1,301 Untitled31.ipynb\n",
      "06-02-2022  10:01               924 Untitled32.ipynb\n",
      "07-02-2022  22:42                72 Untitled33.ipynb\n",
      "08-02-2022  22:27                72 Untitled34.ipynb\n",
      "13-02-2022  11:29             6,226 Untitled35.ipynb\n",
      "19-02-2022  11:23               588 Untitled36.ipynb\n",
      "20-02-2022  10:18               588 Untitled37.ipynb\n",
      "27-02-2022  10:24               750 Untitled38.ipynb\n",
      "27-02-2022  10:35             3,483 Untitled39.ipynb\n"
     ]
    },
    {
     "name": "stdout",
     "output_type": "stream",
     "text": [
      "09-01-2022  22:58             7,050 Untitled3-Copy1.ipynb\n",
      "10-01-2022  20:00                72 Untitled4.ipynb\n",
      "19-03-2022  11:58            65,115 Untitled40.ipynb\n",
      "23-03-2022  23:32            25,314 Untitled41.ipynb\n",
      "30-03-2022  07:57                72 Untitled42.ipynb\n",
      "30-03-2022  20:55             4,847 Untitled43.ipynb\n",
      "10-01-2022  22:23                72 Untitled5.ipynb\n",
      "11-01-2022  22:45             1,855 Untitled6.ipynb\n",
      "14-01-2022  22:27             6,537 Untitled7.ipynb\n",
      "14-01-2022  22:52             6,711 Untitled8.ipynb\n",
      "14-01-2022  22:28             3,939 Untitled9.ipynb\n",
      "09-10-2021  00:09    <DIR>          Videos\n",
      "             219 File(s)     26,367,801 bytes\n",
      "              49 Dir(s)  216,040,370,176 bytes free\n"
     ]
    }
   ],
   "source": [
    "ls"
   ]
  },
  {
   "cell_type": "code",
   "execution_count": null,
   "id": "7307094d",
   "metadata": {},
   "outputs": [],
   "source": []
  }
 ],
 "metadata": {
  "kernelspec": {
   "display_name": "Python 3 (ipykernel)",
   "language": "python",
   "name": "python3"
  },
  "language_info": {
   "codemirror_mode": {
    "name": "ipython",
    "version": 3
   },
   "file_extension": ".py",
   "mimetype": "text/x-python",
   "name": "python",
   "nbconvert_exporter": "python",
   "pygments_lexer": "ipython3",
   "version": "3.9.7"
  }
 },
 "nbformat": 4,
 "nbformat_minor": 5
}
