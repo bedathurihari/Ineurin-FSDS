{
 "cells": [
  {
   "cell_type": "code",
   "execution_count": 1,
   "id": "0a659c46",
   "metadata": {},
   "outputs": [
    {
     "data": {
      "text/plain": [
       "'C:\\\\Users\\\\Bc406tx'"
      ]
     },
     "execution_count": 1,
     "metadata": {},
     "output_type": "execute_result"
    }
   ],
   "source": [
    "pwd\n"
   ]
  },
  {
   "cell_type": "markdown",
   "id": "aa9a8df1",
   "metadata": {},
   "source": [
    "1. Is the Python Standard Library included with PyInputPlus?"
   ]
  },
  {
   "cell_type": "markdown",
   "id": "2c68a3db",
   "metadata": {},
   "source": [
    "no"
   ]
  },
  {
   "cell_type": "markdown",
   "id": "fd385c0d",
   "metadata": {},
   "source": [
    "2. Why is PyInputPlus commonly imported with import pyinputplus as pypi?"
   ]
  },
  {
   "cell_type": "markdown",
   "id": "72cfa5a7",
   "metadata": {},
   "source": [
    "to simplify the name of module ,instead of length names"
   ]
  },
  {
   "cell_type": "markdown",
   "id": "f023fe0f",
   "metadata": {},
   "source": [
    "3. How do you distinguish between inputInt() and inputFloat()?"
   ]
  },
  {
   "cell_type": "markdown",
   "id": "311d0088",
   "metadata": {},
   "source": [
    "inputint() accepts integer values as an input and returns int type...\n",
    "inputFloat() accepts float values as an input and returns float type"
   ]
  },
  {
   "cell_type": "markdown",
   "id": "9e2be3ae",
   "metadata": {},
   "source": [
    "4. Using PyInputPlus, how do you ensure that the user enters a whole number between 0 and 99?"
   ]
  },
  {
   "cell_type": "code",
   "execution_count": 13,
   "id": "38be9324",
   "metadata": {},
   "outputs": [
    {
     "name": "stdout",
     "output_type": "stream",
     "text": [
      "enter a integer between 0 and 99345\n",
      "Number must be less than 99.\n",
      "enter a integer between 0 and 993\n",
      "3\n"
     ]
    }
   ],
   "source": [
    "import os\n",
    "import sys\n",
    "\n",
    "import pyinputplus as pi\n",
    "\n",
    "a=pi.inputInt(prompt=\"enter a integer between 0 and 99\",min=0,lessThan=99)\n",
    "print(a)"
   ]
  },
  {
   "cell_type": "code",
   "execution_count": null,
   "id": "53054e73",
   "metadata": {},
   "outputs": [],
   "source": [
    "5. What is transferred to the keyword arguments allowRegexes and blockRegexes?"
   ]
  },
  {
   "cell_type": "markdown",
   "id": "48f55b47",
   "metadata": {},
   "source": [
    "list of strings which are to allowed can be defined with alloRegexes keyword.....\n",
    "list of strings which are not allowed , can be defined with blockRegexes keyword"
   ]
  },
  {
   "cell_type": "markdown",
   "id": "974506fc",
   "metadata": {},
   "source": [
    "6. If a blank input is entered three times, what does inputStr(limit=3) do?"
   ]
  },
  {
   "cell_type": "markdown",
   "id": "82b4f221",
   "metadata": {},
   "source": [
    "will get ValidationException: Blank values are not allowed as eror after entering blank of 3 times "
   ]
  },
  {
   "cell_type": "code",
   "execution_count": 7,
   "id": "ce6567b0",
   "metadata": {},
   "outputs": [
    {
     "name": "stdout",
     "output_type": "stream",
     "text": [
      "enter a integer between 0 and 995\n",
      "5\n"
     ]
    }
   ],
   "source": [
    "\n",
    "import pyinputplus as pi\n",
    "\n",
    "a=pi.inputStr(prompt=\"enter a integer between 0 and 99\",limit=4)\n",
    "print(a)"
   ]
  },
  {
   "cell_type": "code",
   "execution_count": null,
   "id": "e9bd8114",
   "metadata": {},
   "outputs": [],
   "source": [
    "7. If blank input is entered three times, what does inputStr(limit=3, default=\"hello\") do?"
   ]
  },
  {
   "cell_type": "code",
   "execution_count": null,
   "id": "77dc5e93",
   "metadata": {},
   "outputs": [],
   "source": []
  },
  {
   "cell_type": "code",
   "execution_count": 8,
   "id": "826cd612",
   "metadata": {},
   "outputs": [
    {
     "name": "stdout",
     "output_type": "stream",
     "text": [
      "enter a integer between 0 and 99\n",
      "Blank values are not allowed.\n",
      "enter a integer between 0 and 99\n",
      "Blank values are not allowed.\n",
      "enter a integer between 0 and 99\n",
      "Blank values are not allowed.\n",
      "hell0\n"
     ]
    }
   ],
   "source": [
    "\n",
    "import pyinputplus as pi\n",
    "\n",
    "a=pi.inputStr(prompt=\"enter a integer between 0 and 99\",limit=3,default='hell0')\n",
    "print(a)"
   ]
  },
  {
   "cell_type": "markdown",
   "id": "0230e3bd",
   "metadata": {},
   "source": [
    "it will returns \"hello\", which is defined as a default output in the code after 3 attempts"
   ]
  }
 ],
 "metadata": {
  "kernelspec": {
   "display_name": "Python 3 (ipykernel)",
   "language": "python",
   "name": "python3"
  },
  "language_info": {
   "codemirror_mode": {
    "name": "ipython",
    "version": 3
   },
   "file_extension": ".py",
   "mimetype": "text/x-python",
   "name": "python",
   "nbconvert_exporter": "python",
   "pygments_lexer": "ipython3",
   "version": "3.9.7"
  }
 },
 "nbformat": 4,
 "nbformat_minor": 5
}
