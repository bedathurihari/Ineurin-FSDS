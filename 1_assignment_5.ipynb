{
 "cells": [
  {
   "cell_type": "markdown",
   "id": "fed03986",
   "metadata": {},
   "source": [
    "1. What does an empty dictionary&#39;s code look like?\n"
   ]
  },
  {
   "cell_type": "code",
   "execution_count": 4,
   "id": "0d310a35",
   "metadata": {},
   "outputs": [],
   "source": [
    "a={}"
   ]
  },
  {
   "cell_type": "code",
   "execution_count": 5,
   "id": "e563b879",
   "metadata": {},
   "outputs": [
    {
     "data": {
      "text/plain": [
       "{}"
      ]
     },
     "execution_count": 5,
     "metadata": {},
     "output_type": "execute_result"
    }
   ],
   "source": [
    "a"
   ]
  },
  {
   "cell_type": "markdown",
   "id": "243de261",
   "metadata": {},
   "source": [
    "2. What is the value of a dictionary value with the key &#39;foo&#39; and the value 42?"
   ]
  },
  {
   "cell_type": "code",
   "execution_count": 6,
   "id": "0f3dd402",
   "metadata": {},
   "outputs": [],
   "source": [
    "a={\"foo\":42}"
   ]
  },
  {
   "cell_type": "code",
   "execution_count": 12,
   "id": "2a1cb440",
   "metadata": {},
   "outputs": [
    {
     "data": {
      "text/plain": [
       "dict_values([42])"
      ]
     },
     "execution_count": 12,
     "metadata": {},
     "output_type": "execute_result"
    }
   ],
   "source": [
    "a.values()\n"
   ]
  },
  {
   "cell_type": "code",
   "execution_count": 13,
   "id": "d3f5758d",
   "metadata": {},
   "outputs": [
    {
     "name": "stdout",
     "output_type": "stream",
     "text": [
      "foo 42\n"
     ]
    }
   ],
   "source": [
    "for i in a:\n",
    "    print(i,a[i])"
   ]
  },
  {
   "cell_type": "markdown",
   "id": "725b9d65",
   "metadata": {},
   "source": [
    "3. What is the most significant distinction between a dictionary and a list?"
   ]
  },
  {
   "cell_type": "markdown",
   "id": "4b53e8d8",
   "metadata": {},
   "source": [
    "list follows a sequence of order and the elements can be traced by using its indexes\n",
    "dictionary is underorderd collection of data and elemets can be traced by using key -value pair but not using indexes"
   ]
  },
  {
   "cell_type": "markdown",
   "id": "fb14f669",
   "metadata": {},
   "source": [
    "4. What happens if you try to access spam(foo),if spam is {\"bar\": 100}?"
   ]
  },
  {
   "cell_type": "code",
   "execution_count": 14,
   "id": "5746337a",
   "metadata": {},
   "outputs": [],
   "source": [
    "spam={\"bar\":100}\n"
   ]
  },
  {
   "cell_type": "code",
   "execution_count": 18,
   "id": "80ecfcc9",
   "metadata": {},
   "outputs": [
    {
     "ename": "NameError",
     "evalue": "name 'foo' is not defined",
     "output_type": "error",
     "traceback": [
      "\u001b[1;31m---------------------------------------------------------------------------\u001b[0m",
      "\u001b[1;31mNameError\u001b[0m                                 Traceback (most recent call last)",
      "\u001b[1;32m~\\AppData\\Local\\Temp/ipykernel_16588/237163023.py\u001b[0m in \u001b[0;36m<module>\u001b[1;34m\u001b[0m\n\u001b[1;32m----> 1\u001b[1;33m \u001b[0mspam\u001b[0m\u001b[1;33m(\u001b[0m\u001b[0mfoo\u001b[0m\u001b[1;33m)\u001b[0m\u001b[1;33m\u001b[0m\u001b[1;33m\u001b[0m\u001b[0m\n\u001b[0m",
      "\u001b[1;31mNameError\u001b[0m: name 'foo' is not defined"
     ]
    }
   ],
   "source": [
    "spam(foo)"
   ]
  },
  {
   "cell_type": "markdown",
   "id": "9e8ce227",
   "metadata": {},
   "source": [
    "will get nameerror"
   ]
  },
  {
   "cell_type": "markdown",
   "id": "8e27f3b5",
   "metadata": {},
   "source": [
    "5. If a dictionary is stored in spam, what is the difference between the expressions cat in spam and\n",
    "cat in spam.keys()?"
   ]
  },
  {
   "cell_type": "markdown",
   "id": "0dc2a1f8",
   "metadata": {},
   "source": [
    "expression cat in spam will check, wheather \"cat\" is avaialble in spam keyword lists or not\n",
    "cat in sapm.keys() will checks, wheather \"cat\" is avaialble in spam keyword lists or not"
   ]
  },
  {
   "cell_type": "code",
   "execution_count": 30,
   "id": "eda42bbd",
   "metadata": {},
   "outputs": [
    {
     "name": "stdout",
     "output_type": "stream",
     "text": [
      "yes\n",
      "key available\n"
     ]
    }
   ],
   "source": [
    "spam={\"cat\":40}\n",
    "if \"cat\" in spam:\n",
    "    print(\"yes\")\n",
    "else:\n",
    "    print(\"no\")\n",
    "if 'cat'in spam.keys():\n",
    "    print(\"key available\")\n",
    "else:\n",
    "    print(\"not in key\")\n",
    "    "
   ]
  },
  {
   "cell_type": "markdown",
   "id": "0fcc03cb",
   "metadata": {},
   "source": [
    "6.If a dictionary is stored in spam, what is the difference between the expressions cat in spam and cat in spam.values()?"
   ]
  },
  {
   "cell_type": "markdown",
   "id": "f23cf26e",
   "metadata": {},
   "source": [
    "expression cat in spam will check, wheather \"cat\" is avaialble in spam keyword lists or not\n",
    "cat in sapm.values () will checks, wheather \"cat\" is avaialble in spam value lists or not"
   ]
  },
  {
   "cell_type": "code",
   "execution_count": 31,
   "id": "b2dd3fd4",
   "metadata": {},
   "outputs": [
    {
     "name": "stdout",
     "output_type": "stream",
     "text": [
      "yes\n",
      "not in key\n"
     ]
    }
   ],
   "source": [
    "spam={\"cat\":40}\n",
    "if \"cat\" in spam:\n",
    "    print(\"yes\")\n",
    "else:\n",
    "    print(\"no\")\n",
    "if 'cat'in spam.values():\n",
    "    print(\"key available\")\n",
    "else:\n",
    "    print(\"not in key\")"
   ]
  },
  {
   "cell_type": "markdown",
   "id": "a948aec9",
   "metadata": {},
   "source": [
    "7. What is a shortcut for the following code?\n",
    "if \"color\" not in spam:\n",
    "spam[color] = \"black\""
   ]
  },
  {
   "cell_type": "code",
   "execution_count": 37,
   "id": "b234fe0f",
   "metadata": {},
   "outputs": [],
   "source": [
    "\n",
    "if \"color\" not in spam:\n",
    "    spam.setdefault('color','block')\n",
    "    "
   ]
  },
  {
   "cell_type": "code",
   "execution_count": 38,
   "id": "dd2771be",
   "metadata": {},
   "outputs": [
    {
     "data": {
      "text/plain": [
       "{'cat': 40, 'color': 'block'}"
      ]
     },
     "execution_count": 38,
     "metadata": {},
     "output_type": "execute_result"
    }
   ],
   "source": [
    "spam"
   ]
  },
  {
   "cell_type": "markdown",
   "id": "24ad6f38",
   "metadata": {},
   "source": [
    "8. How do you \"pretty print\"dictionary values using which module and function?"
   ]
  },
  {
   "cell_type": "code",
   "execution_count": null,
   "id": "8ebe55ce",
   "metadata": {},
   "outputs": [],
   "source": [
    "byusing 3 methods, we can pretty print the dictionary values\n",
    "1.pprint()\n",
    "    module:pprint\n",
    "    function :pprint()\n",
    "2.json.dumps()\n",
    "    module : json\n",
    "    function : dumps()\n",
    "3.yaml.dump()\n",
    "    module : yamol\n",
    "    function : dump()"
   ]
  }
 ],
 "metadata": {
  "kernelspec": {
   "display_name": "Python 3 (ipykernel)",
   "language": "python",
   "name": "python3"
  },
  "language_info": {
   "codemirror_mode": {
    "name": "ipython",
    "version": 3
   },
   "file_extension": ".py",
   "mimetype": "text/x-python",
   "name": "python",
   "nbconvert_exporter": "python",
   "pygments_lexer": "ipython3",
   "version": "3.9.7"
  }
 },
 "nbformat": 4,
 "nbformat_minor": 5
}
