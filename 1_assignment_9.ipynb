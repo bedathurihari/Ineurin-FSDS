{
 "cells": [
  {
   "cell_type": "markdown",
   "id": "54e0db20",
   "metadata": {},
   "source": [
    "1. To what does a relative path refer?"
   ]
  },
  {
   "cell_type": "markdown",
   "id": "79df8a92",
   "metadata": {},
   "source": [
    "relative path refers to a path of specific file in the current working directory"
   ]
  },
  {
   "cell_type": "markdown",
   "id": "c3fdb6d2",
   "metadata": {},
   "source": [
    "2. What does an absolute path start with your operating system?"
   ]
  },
  {
   "cell_type": "markdown",
   "id": "2afa772d",
   "metadata": {},
   "source": [
    "absolute path refers to the full path of a file from its root directory to the end diectory of the path "
   ]
  },
  {
   "cell_type": "markdown",
   "id": "637dbb7d",
   "metadata": {},
   "source": [
    "3. What do the functions os.getcwd() and os.chdir() do?"
   ]
  },
  {
   "cell_type": "markdown",
   "id": "4d696546",
   "metadata": {},
   "source": [
    "os.getcwd will returns the current working directory....\n",
    "os.chdir wil change the current working directory to new directory,which was defined by the user"
   ]
  },
  {
   "cell_type": "markdown",
   "id": "06a8aae8",
   "metadata": {},
   "source": [
    "4. What are the . and .. folders?"
   ]
  },
  {
   "cell_type": "markdown",
   "id": "24e09611",
   "metadata": {},
   "source": [
    ". represents current folder.. represents parent folder"
   ]
  },
  {
   "cell_type": "markdown",
   "id": "60df89b9",
   "metadata": {},
   "source": [
    "5. In C:\\bacon\\eggs\\spam.txt, which part is the dir name, and which part is the base name?"
   ]
  },
  {
   "cell_type": "markdown",
   "id": "e219f2d3",
   "metadata": {},
   "source": [
    "C:\\bacon\\eggs\\ is the dir name\n",
    "    spam.txt is the base name"
   ]
  },
  {
   "cell_type": "markdown",
   "id": "9250535a",
   "metadata": {},
   "source": [
    "6. What are the three “mode” arguments that can be passed to the open() function?"
   ]
  },
  {
   "cell_type": "markdown",
   "id": "92dedfa0",
   "metadata": {},
   "source": [
    "r,w,a (read,writ ,append respectively)"
   ]
  },
  {
   "cell_type": "markdown",
   "id": "ec345867",
   "metadata": {},
   "source": [
    "7. What happens if an existing file is opened in write mode?"
   ]
  },
  {
   "cell_type": "markdown",
   "id": "02e4477c",
   "metadata": {},
   "source": [
    "if an existing file is opend in write mode, it wil overwrite the existing data with new data passsed by user"
   ]
  },
  {
   "cell_type": "markdown",
   "id": "969eb794",
   "metadata": {},
   "source": [
    "8. How do you tell the difference between read() and readlines()?"
   ]
  },
  {
   "cell_type": "markdown",
   "id": "50d91ce7",
   "metadata": {},
   "source": [
    "read function will read the entite content as a string \n",
    "readlines will read each and every line as a separate string"
   ]
  },
  {
   "cell_type": "code",
   "execution_count": null,
   "id": "6a690716",
   "metadata": {},
   "outputs": [],
   "source": [
    "9. What data structure does a shelf value resemble?"
   ]
  },
  {
   "cell_type": "code",
   "execution_count": null,
   "id": "ce2d3f9e",
   "metadata": {},
   "outputs": [],
   "source": [
    "it resembles dictionary"
   ]
  }
 ],
 "metadata": {
  "kernelspec": {
   "display_name": "Python 3 (ipykernel)",
   "language": "python",
   "name": "python3"
  },
  "language_info": {
   "codemirror_mode": {
    "name": "ipython",
    "version": 3
   },
   "file_extension": ".py",
   "mimetype": "text/x-python",
   "name": "python",
   "nbconvert_exporter": "python",
   "pygments_lexer": "ipython3",
   "version": "3.9.7"
  }
 },
 "nbformat": 4,
 "nbformat_minor": 5
}
