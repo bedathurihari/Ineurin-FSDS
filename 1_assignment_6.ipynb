{
 "cells": [
  {
   "cell_type": "markdown",
   "id": "71026601",
   "metadata": {},
   "source": [
    "1. What are escape characters, and how do you use them?"
   ]
  },
  {
   "cell_type": "markdown",
   "id": "c3187dc4",
   "metadata": {},
   "source": [
    "escape chearacters are represented by backslash \"\\\"\n",
    "these are used to insert a special characters in a string before the word at where we need to insert a special characters\n",
    "they are mainly 4 types\n",
    "\\' -> to insert a ' in a string\n",
    "\\n --> to move the strings into a new line\n",
    "\\t --> to maintain a space of tab , wil use it\n",
    "\\r --> to mov ethe curser to the begining of the line"
   ]
  },
  {
   "cell_type": "markdown",
   "id": "b5b18803",
   "metadata": {},
   "source": [
    "2. What do the escape characters n and t stand for?"
   ]
  },
  {
   "cell_type": "markdown",
   "id": "793a848b",
   "metadata": {},
   "source": [
    "\\n --> to move the strings into a new line\n",
    "\\t --> to maintain a space of tab , wil use it"
   ]
  },
  {
   "cell_type": "code",
   "execution_count": 49,
   "id": "1070b82e",
   "metadata": {},
   "outputs": [
    {
     "name": "stdout",
     "output_type": "stream",
     "text": [
      "python is a love\n",
      "python is fashion\n"
     ]
    }
   ],
   "source": [
    "a=\"python is a love\\npython is fashion\"\n",
    "print(a)"
   ]
  },
  {
   "cell_type": "code",
   "execution_count": 50,
   "id": "39504404",
   "metadata": {},
   "outputs": [
    {
     "name": "stdout",
     "output_type": "stream",
     "text": [
      "python is a love\tpython is fashion\n"
     ]
    }
   ],
   "source": [
    "a=\"python is a love\\tpython is fashion\"\n",
    "print(a)"
   ]
  },
  {
   "cell_type": "markdown",
   "id": "62f9705f",
   "metadata": {},
   "source": [
    "3. What is the way to include backslash characters in a string?"
   ]
  },
  {
   "cell_type": "markdown",
   "id": "820f788a",
   "metadata": {},
   "source": [
    "by using backslash symbol  within the double codes \"\\\\\" before the word, where we need to insert a \\ in string\n"
   ]
  },
  {
   "cell_type": "markdown",
   "id": "ff5c5422",
   "metadata": {},
   "source": [
    "4. The string \"Howl's Moving Castle\" is a correct value. Why isn't the single quote character in the\n",
    "word Howl's not escaped a problem?"
   ]
  },
  {
   "cell_type": "code",
   "execution_count": 60,
   "id": "c7f9c92f",
   "metadata": {},
   "outputs": [
    {
     "name": "stdout",
     "output_type": "stream",
     "text": [
      "Howl's Moving Castle\n"
     ]
    }
   ],
   "source": [
    "a=\"Howl's Moving Castle\" \n",
    "print(a)"
   ]
  },
  {
   "cell_type": "code",
   "execution_count": 61,
   "id": "dd09c954",
   "metadata": {},
   "outputs": [
    {
     "ename": "SyntaxError",
     "evalue": "EOL while scanning string literal (Temp/ipykernel_21884/3701330253.py, line 1)",
     "output_type": "error",
     "traceback": [
      "\u001b[1;36m  File \u001b[1;32m\"C:\\Users\\Bc406tx\\AppData\\Local\\Temp/ipykernel_21884/3701330253.py\"\u001b[1;36m, line \u001b[1;32m1\u001b[0m\n\u001b[1;33m    b=Howl's Moving Castle\u001b[0m\n\u001b[1;37m                          ^\u001b[0m\n\u001b[1;31mSyntaxError\u001b[0m\u001b[1;31m:\u001b[0m EOL while scanning string literal\n"
     ]
    }
   ],
   "source": [
    "b=Howl's Moving Castle\n",
    "print(b)"
   ]
  },
  {
   "cell_type": "markdown",
   "id": "106159e3",
   "metadata": {},
   "source": [
    "in a , we used a string within the double quotes, so obvioulsy \" \" wil takes the Howl's \n",
    "in b , we didnt used \"\" for stings,so its not taking "
   ]
  },
  {
   "cell_type": "markdown",
   "id": "7e71b173",
   "metadata": {},
   "source": [
    "5. How do you write a string of newlines if you don't want to use the n character?"
   ]
  },
  {
   "cell_type": "markdown",
   "id": "44128180",
   "metadata": {},
   "source": [
    "by using multiple lines in a string within triple quotes \"\"\" \"\"\""
   ]
  },
  {
   "cell_type": "code",
   "execution_count": 78,
   "id": "b83784d6",
   "metadata": {},
   "outputs": [
    {
     "name": "stdout",
     "output_type": "stream",
     "text": [
      "this \n",
      "is\n",
      "hari\n"
     ]
    }
   ],
   "source": [
    "print(\"\"\"this \n",
    "is\n",
    "hari\"\"\")\n"
   ]
  },
  {
   "cell_type": "markdown",
   "id": "cbec0b0c",
   "metadata": {},
   "source": [
    "6. What are the values of the given expressions?\n",
    "'Hello, world!'[1]\n",
    "'Hello, world!'[0:5]\n",
    "'Hello, world!'[:5]\n",
    "'Hello, world!'[3:]\n",
    "\n",
    "here its using the concept of indexing "
   ]
  },
  {
   "cell_type": "code",
   "execution_count": 85,
   "id": "530800e2",
   "metadata": {},
   "outputs": [
    {
     "data": {
      "text/plain": [
       "'e'"
      ]
     },
     "execution_count": 85,
     "metadata": {},
     "output_type": "execute_result"
    }
   ],
   "source": [
    "'Hello, world!'[1]"
   ]
  },
  {
   "cell_type": "code",
   "execution_count": 84,
   "id": "cf8ce4b7",
   "metadata": {},
   "outputs": [
    {
     "data": {
      "text/plain": [
       "'Hello'"
      ]
     },
     "execution_count": 84,
     "metadata": {},
     "output_type": "execute_result"
    }
   ],
   "source": [
    "'Hello, world!'[0:5]"
   ]
  },
  {
   "cell_type": "code",
   "execution_count": 83,
   "id": "04d52fbd",
   "metadata": {},
   "outputs": [
    {
     "data": {
      "text/plain": [
       "'Hello'"
      ]
     },
     "execution_count": 83,
     "metadata": {},
     "output_type": "execute_result"
    }
   ],
   "source": [
    "'Hello, world!'[:5]"
   ]
  },
  {
   "cell_type": "code",
   "execution_count": 86,
   "id": "89a54b55",
   "metadata": {},
   "outputs": [
    {
     "data": {
      "text/plain": [
       "'lo, world!'"
      ]
     },
     "execution_count": 86,
     "metadata": {},
     "output_type": "execute_result"
    }
   ],
   "source": [
    " 'Hello, world!'[3:]"
   ]
  },
  {
   "cell_type": "markdown",
   "id": "b1a10267",
   "metadata": {},
   "source": [
    "7. What are the values of the following expressions?\n",
    "'Hello'.upper()\n",
    "'Hello'.upper().isupper()\n",
    "'Hello'.upper().lower()"
   ]
  },
  {
   "cell_type": "code",
   "execution_count": 87,
   "id": "6db261ed",
   "metadata": {},
   "outputs": [
    {
     "data": {
      "text/plain": [
       "'HELLO'"
      ]
     },
     "execution_count": 87,
     "metadata": {},
     "output_type": "execute_result"
    }
   ],
   "source": [
    "'Hello'.upper()"
   ]
  },
  {
   "cell_type": "code",
   "execution_count": 88,
   "id": "d5bf1f9f",
   "metadata": {},
   "outputs": [
    {
     "data": {
      "text/plain": [
       "True"
      ]
     },
     "execution_count": 88,
     "metadata": {},
     "output_type": "execute_result"
    }
   ],
   "source": [
    "'Hello'.upper().isupper()"
   ]
  },
  {
   "cell_type": "code",
   "execution_count": 89,
   "id": "55da741a",
   "metadata": {},
   "outputs": [
    {
     "data": {
      "text/plain": [
       "'hello'"
      ]
     },
     "execution_count": 89,
     "metadata": {},
     "output_type": "execute_result"
    }
   ],
   "source": [
    " 'Hello'.upper().lower()"
   ]
  },
  {
   "cell_type": "markdown",
   "id": "e937f7b8",
   "metadata": {},
   "source": [
    "8. What are the values of the following expressions?\n",
    "'Remember, remember, the fifth of July.'.split()\n",
    "'-'.join('There can only one.'.split())"
   ]
  },
  {
   "cell_type": "code",
   "execution_count": 90,
   "id": "34dece5e",
   "metadata": {},
   "outputs": [
    {
     "data": {
      "text/plain": [
       "['Remember,', 'remember,', 'the', 'fifth', 'of', 'July.']"
      ]
     },
     "execution_count": 90,
     "metadata": {},
     "output_type": "execute_result"
    }
   ],
   "source": [
    "'Remember, remember, the fifth of July.'.split()"
   ]
  },
  {
   "cell_type": "code",
   "execution_count": 95,
   "id": "1b3c4385",
   "metadata": {},
   "outputs": [
    {
     "data": {
      "text/plain": [
       "'There-can-only-one.'"
      ]
     },
     "execution_count": 95,
     "metadata": {},
     "output_type": "execute_result"
    }
   ],
   "source": [
    "'-'.join('There can only one.'.split())"
   ]
  },
  {
   "cell_type": "markdown",
   "id": "44538589",
   "metadata": {},
   "source": [
    "\n",
    "What are the methods for right-justifying, left-justifying, and centering a string?"
   ]
  },
  {
   "cell_type": "markdown",
   "id": "653addf3",
   "metadata": {},
   "source": [
    "ljust(),rjust(),center() are the 3 methods for left justifying,right justifying and center justifying respectively"
   ]
  },
  {
   "cell_type": "markdown",
   "id": "67536fac",
   "metadata": {},
   "source": [
    "10. What is the best way to remove whitespace characters from the start or end?"
   ]
  },
  {
   "cell_type": "code",
   "execution_count": null,
   "id": "8e784838",
   "metadata": {},
   "outputs": [],
   "source": [
    "by using strip() function , we can remove white spaces"
   ]
  },
  {
   "cell_type": "code",
   "execution_count": 105,
   "id": "61a02d69",
   "metadata": {},
   "outputs": [],
   "source": [
    "a=\"  this is hari  \""
   ]
  },
  {
   "cell_type": "code",
   "execution_count": 111,
   "id": "03a17a2b",
   "metadata": {},
   "outputs": [
    {
     "data": {
      "text/plain": [
       "'this is hari'"
      ]
     },
     "execution_count": 111,
     "metadata": {},
     "output_type": "execute_result"
    }
   ],
   "source": [
    "a.strip()"
   ]
  },
  {
   "cell_type": "code",
   "execution_count": null,
   "id": "99bfd5bd",
   "metadata": {},
   "outputs": [],
   "source": []
  }
 ],
 "metadata": {
  "kernelspec": {
   "display_name": "Python 3 (ipykernel)",
   "language": "python",
   "name": "python3"
  },
  "language_info": {
   "codemirror_mode": {
    "name": "ipython",
    "version": 3
   },
   "file_extension": ".py",
   "mimetype": "text/x-python",
   "name": "python",
   "nbconvert_exporter": "python",
   "pygments_lexer": "ipython3",
   "version": "3.9.7"
  }
 },
 "nbformat": 4,
 "nbformat_minor": 5
}
