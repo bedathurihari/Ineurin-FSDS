{
 "cells": [
  {
   "cell_type": "markdown",
   "id": "0cc69632",
   "metadata": {},
   "source": [
    "1. What exactly is []?\n",
    "its a list data type\n",
    "set of list values will be defined in \"[]\"\n"
   ]
  },
  {
   "cell_type": "markdown",
   "id": "b9593412",
   "metadata": {},
   "source": [
    "2. In a list of values stored in a variable called spam, how would you assign the value hello as the\n",
    "third value? (Assume [2, 4, 6, 8, 10] are in spam.)\n"
   ]
  },
  {
   "cell_type": "code",
   "execution_count": 7,
   "id": "c9a3efa2",
   "metadata": {},
   "outputs": [],
   "source": [
    "spam=[2,4,6,8,10]\n",
    "spam.insert(2,\"hello\")\n"
   ]
  },
  {
   "cell_type": "code",
   "execution_count": 8,
   "id": "83c3104d",
   "metadata": {},
   "outputs": [
    {
     "data": {
      "text/plain": [
       "[2, 4, 'hello', 6, 8, 10]"
      ]
     },
     "execution_count": 8,
     "metadata": {},
     "output_type": "execute_result"
    }
   ],
   "source": [
    "spam"
   ]
  },
  {
   "cell_type": "markdown",
   "id": "91a69600",
   "metadata": {},
   "source": [
    "Lets pretend the spam includes the list ['a','b','c','d'] for the next three queries."
   ]
  },
  {
   "cell_type": "markdown",
   "id": "ffca9c8e",
   "metadata": {},
   "source": [
    "3. What is the value of spam[int(int('3'* 2) / 11)]?"
   ]
  },
  {
   "cell_type": "code",
   "execution_count": 10,
   "id": "4d40a2d7",
   "metadata": {},
   "outputs": [],
   "source": [
    "spam=['a','b','c','d']"
   ]
  },
  {
   "cell_type": "code",
   "execution_count": 11,
   "id": "8a67ede2",
   "metadata": {},
   "outputs": [
    {
     "data": {
      "text/plain": [
       "'d'"
      ]
     },
     "execution_count": 11,
     "metadata": {},
     "output_type": "execute_result"
    }
   ],
   "source": [
    "spam[int(int('3'*2)/11)]"
   ]
  },
  {
   "cell_type": "markdown",
   "id": "28657c9b",
   "metadata": {},
   "source": [
    "4. What is the value of spam[-1]?"
   ]
  },
  {
   "cell_type": "code",
   "execution_count": 12,
   "id": "c9405c0d",
   "metadata": {},
   "outputs": [
    {
     "data": {
      "text/plain": [
       "'d'"
      ]
     },
     "execution_count": 12,
     "metadata": {},
     "output_type": "execute_result"
    }
   ],
   "source": [
    "spam[-1]"
   ]
  },
  {
   "cell_type": "markdown",
   "id": "300c1365",
   "metadata": {},
   "source": [
    "5. What is the value of spam[:2]?"
   ]
  },
  {
   "cell_type": "code",
   "execution_count": 13,
   "id": "f954d202",
   "metadata": {},
   "outputs": [
    {
     "data": {
      "text/plain": [
       "['a', 'b']"
      ]
     },
     "execution_count": 13,
     "metadata": {},
     "output_type": "execute_result"
    }
   ],
   "source": [
    "spam[:2]"
   ]
  },
  {
   "cell_type": "markdown",
   "id": "34ec915d",
   "metadata": {},
   "source": [
    "Lets pretend bacon has the list [3.14,'cat',11,'cat',True] for the next three questions."
   ]
  },
  {
   "cell_type": "markdown",
   "id": "923bf560",
   "metadata": {},
   "source": [
    "6. What is the value of bacon.index('cat')?"
   ]
  },
  {
   "cell_type": "code",
   "execution_count": 16,
   "id": "b817aa0c",
   "metadata": {},
   "outputs": [
    {
     "data": {
      "text/plain": [
       "1"
      ]
     },
     "execution_count": 16,
     "metadata": {},
     "output_type": "execute_result"
    }
   ],
   "source": [
    "bacon=[3.14,'cat',11,'cat',True]\n",
    "bacon.index('cat')"
   ]
  },
  {
   "cell_type": "markdown",
   "id": "b8d674f6",
   "metadata": {},
   "source": [
    "7. How does bacon.append(99) change the look of the list value in bacon?"
   ]
  },
  {
   "cell_type": "code",
   "execution_count": 17,
   "id": "6c82a248",
   "metadata": {},
   "outputs": [],
   "source": [
    "bacon.append(99)"
   ]
  },
  {
   "cell_type": "code",
   "execution_count": 18,
   "id": "8b1f4e70",
   "metadata": {},
   "outputs": [
    {
     "data": {
      "text/plain": [
       "[3.14, 'cat', 11, 'cat', True, 99]"
      ]
     },
     "execution_count": 18,
     "metadata": {},
     "output_type": "execute_result"
    }
   ],
   "source": [
    "bacon"
   ]
  },
  {
   "cell_type": "markdown",
   "id": "191d3920",
   "metadata": {},
   "source": [
    "8. How does bacon.remove('cat') change the look of the list in bacon?"
   ]
  },
  {
   "cell_type": "code",
   "execution_count": 19,
   "id": "935b2e6b",
   "metadata": {},
   "outputs": [],
   "source": [
    "bacon.remove('cat')"
   ]
  },
  {
   "cell_type": "code",
   "execution_count": 20,
   "id": "1b59b1d2",
   "metadata": {},
   "outputs": [
    {
     "data": {
      "text/plain": [
       "[3.14, 11, 'cat', True, 99]"
      ]
     },
     "execution_count": 20,
     "metadata": {},
     "output_type": "execute_result"
    }
   ],
   "source": [
    "bacon"
   ]
  },
  {
   "cell_type": "markdown",
   "id": "f01651b2",
   "metadata": {},
   "source": [
    "9. What are the list concatenation and list replication operators?\n",
    "list concatenation operater is +\n",
    "list replication operater is *"
   ]
  },
  {
   "cell_type": "markdown",
   "id": "7f536f8f",
   "metadata": {},
   "source": [
    "10. What is difference between the list methods append() and insert()?"
   ]
  },
  {
   "cell_type": "markdown",
   "id": "1197c252",
   "metadata": {},
   "source": [
    "append will add the element at the end positio of the list\n",
    "insert will add the elemet at the specifed index of the list"
   ]
  },
  {
   "cell_type": "markdown",
   "id": "33101990",
   "metadata": {},
   "source": [
    "11. What are the two methods for removing items from a list?\n",
    "remove() and pop()\n",
    "remove:it removes first element from the list\n",
    "pop :removes an element from the list based on the index given"
   ]
  },
  {
   "cell_type": "markdown",
   "id": "911dd220",
   "metadata": {},
   "source": [
    "12. Describe how list values and string values are identical.\n"
   ]
  },
  {
   "cell_type": "markdown",
   "id": "9b7c503b",
   "metadata": {},
   "source": [
    "A.\n",
    "list values and sgtring vaues are idnetiocal,because its conatins orderd collection of elements\n",
    "only differnce is what type of elements its contains\n",
    "list can have any type of data type but strings should contain only characatres i.e, string type"
   ]
  },
  {
   "cell_type": "markdown",
   "id": "4b358e5b",
   "metadata": {},
   "source": [
    "13. Whats the difference between tuples and lists?"
   ]
  },
  {
   "cell_type": "markdown",
   "id": "efe7cb9c",
   "metadata": {},
   "source": [
    "A.list and tuples are sequence data types, which can contains any type of data types.\n",
    "list are mutuable but tuples are immutable.\n",
    "lists consumes more memory than tuples.\n",
    "list is a dynamic in nature but tuples are static. \n"
   ]
  },
  {
   "cell_type": "markdown",
   "id": "2168cd7e",
   "metadata": {},
   "source": [
    "14. How do you type a tuple value that only contains the integer 42?"
   ]
  },
  {
   "cell_type": "code",
   "execution_count": 22,
   "id": "a6a138da",
   "metadata": {},
   "outputs": [],
   "source": [
    "a=(42)"
   ]
  },
  {
   "cell_type": "code",
   "execution_count": 24,
   "id": "3e491e32",
   "metadata": {},
   "outputs": [
    {
     "data": {
      "text/plain": [
       "int"
      ]
     },
     "execution_count": 24,
     "metadata": {},
     "output_type": "execute_result"
    }
   ],
   "source": [
    "type(a)"
   ]
  },
  {
   "cell_type": "markdown",
   "id": "5f5f5a9f",
   "metadata": {},
   "source": [
    "15. How do you get a list values tuple form? How do you get a tuple values list form?"
   ]
  },
  {
   "cell_type": "code",
   "execution_count": 25,
   "id": "dbade85c",
   "metadata": {},
   "outputs": [],
   "source": [
    "a=[2,3,4]"
   ]
  },
  {
   "cell_type": "code",
   "execution_count": 28,
   "id": "927f362c",
   "metadata": {},
   "outputs": [],
   "source": [
    "b=tuple(a)"
   ]
  },
  {
   "cell_type": "code",
   "execution_count": 30,
   "id": "ac077a15",
   "metadata": {},
   "outputs": [
    {
     "data": {
      "text/plain": [
       "tuple"
      ]
     },
     "execution_count": 30,
     "metadata": {},
     "output_type": "execute_result"
    }
   ],
   "source": [
    "type(b)"
   ]
  },
  {
   "cell_type": "code",
   "execution_count": 31,
   "id": "442e1b87",
   "metadata": {},
   "outputs": [],
   "source": [
    "a=(2,3,4)"
   ]
  },
  {
   "cell_type": "code",
   "execution_count": 32,
   "id": "590f99b5",
   "metadata": {},
   "outputs": [],
   "source": [
    "b=list(a)"
   ]
  },
  {
   "cell_type": "code",
   "execution_count": 34,
   "id": "1496bbe3",
   "metadata": {},
   "outputs": [
    {
     "data": {
      "text/plain": [
       "list"
      ]
     },
     "execution_count": 34,
     "metadata": {},
     "output_type": "execute_result"
    }
   ],
   "source": [
    "type(b)"
   ]
  },
  {
   "cell_type": "markdown",
   "id": "df937feb",
   "metadata": {},
   "source": [
    "16. Variables that contains list values are not necessarily lists themselves. Instead, what do they\n",
    "contain?"
   ]
  },
  {
   "cell_type": "markdown",
   "id": "baea3b76",
   "metadata": {},
   "source": [
    "it conatins references to the lists"
   ]
  },
  {
   "cell_type": "markdown",
   "id": "fe3aa683",
   "metadata": {},
   "source": [
    "17. How do you distinguish between copy.copy() and copy.deepcopy()?"
   ]
  },
  {
   "cell_type": "markdown",
   "id": "e0f35532",
   "metadata": {},
   "source": [
    "copy.copy will will crate a another file of original file with same indexes,so new file and original file wil match..\n",
    "copy.deepcopy will create a another file of original file with differnt indexs ,so the both new file and original file wont match "
   ]
  },
  {
   "cell_type": "code",
   "execution_count": null,
   "id": "cdfa428c",
   "metadata": {},
   "outputs": [],
   "source": []
  }
 ],
 "metadata": {
  "kernelspec": {
   "display_name": "Python 3 (ipykernel)",
   "language": "python",
   "name": "python3"
  },
  "language_info": {
   "codemirror_mode": {
    "name": "ipython",
    "version": 3
   },
   "file_extension": ".py",
   "mimetype": "text/x-python",
   "name": "python",
   "nbconvert_exporter": "python",
   "pygments_lexer": "ipython3",
   "version": "3.9.7"
  }
 },
 "nbformat": 4,
 "nbformat_minor": 5
}
